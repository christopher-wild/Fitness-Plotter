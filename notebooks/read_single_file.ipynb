{
 "cells": [
  {
   "cell_type": "code",
   "execution_count": 53,
   "metadata": {},
   "outputs": [],
   "source": [
    "from garmin_fit_sdk import Decoder, Stream \n",
    "import json\n",
    "from pathlib import Path\n",
    "import folium\n",
    "with open('paths.json') as f:\n",
    "    paths = json.load(f)"
   ]
  },
  {
   "cell_type": "code",
   "execution_count": null,
   "metadata": {},
   "outputs": [],
   "source": [
    "stream = Stream.from_file(paths['EXAMPLE_ACTIVITY'])\n",
    "decoder = Decoder(stream)\n",
    "messages = decoder.read()[0]\n",
    "messages.keys()"
   ]
  },
  {
   "cell_type": "code",
   "execution_count": null,
   "metadata": {},
   "outputs": [],
   "source": [
    "messages['record_mesgs'][0]['position_lat']"
   ]
  },
  {
   "cell_type": "code",
   "execution_count": 109,
   "metadata": {},
   "outputs": [],
   "source": [
    "m = folium.Map([messages['record_mesgs'][0]['position_lat'] * (180 / 2**31), messages['record_mesgs'][0]['position_long'] * (180 / 2**31)], zoom_start=15)"
   ]
  },
  {
   "cell_type": "code",
   "execution_count": 107,
   "metadata": {},
   "outputs": [],
   "source": [
    "polyline = []\n",
    "for record in messages['record_mesgs']:\n",
    "    try:\n",
    "        polyline.append([record['position_lat'] * (180 / 2**31), record['position_long'] * (180 / 2**31)])\n",
    "    except KeyError:\n",
    "        pass"
   ]
  },
  {
   "cell_type": "code",
   "execution_count": null,
   "metadata": {},
   "outputs": [],
   "source": [
    "folium.PolyLine(polyline, color=\"blue\", weight=2.5, opacity=1).add_to(m)"
   ]
  },
  {
   "cell_type": "code",
   "execution_count": null,
   "metadata": {},
   "outputs": [],
   "source": [
    "m"
   ]
  }
 ],
 "metadata": {
  "kernelspec": {
   "display_name": ".venv",
   "language": "python",
   "name": "python3"
  },
  "language_info": {
   "codemirror_mode": {
    "name": "ipython",
    "version": 3
   },
   "file_extension": ".py",
   "mimetype": "text/x-python",
   "name": "python",
   "nbconvert_exporter": "python",
   "pygments_lexer": "ipython3",
   "version": "3.10.6"
  }
 },
 "nbformat": 4,
 "nbformat_minor": 2
}
