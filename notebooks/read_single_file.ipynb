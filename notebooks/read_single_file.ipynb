{
 "cells": [
  {
   "cell_type": "code",
   "execution_count": 50,
   "metadata": {},
   "outputs": [],
   "source": [
    "from garmin_fit_sdk import Decoder, Stream \n",
    "import json\n",
    "from pathlib import Path\n",
    "\n",
    "with open('paths.json') as f:\n",
    "    paths = json.load(f)"
   ]
  },
  {
   "cell_type": "code",
   "execution_count": 51,
   "metadata": {},
   "outputs": [
    {
     "data": {
      "text/plain": [
       "dict_keys(['file_id_mesgs', 'file_creator_mesgs', '288', 'event_mesgs', 'device_info_mesgs', '22', '141', 'device_settings_mesgs', 'user_profile_mesgs', '79', 'sport_mesgs', '13', 'record_mesgs', '233', '104', 'lap_mesgs', 'session_mesgs', 'activity_mesgs', '113'])"
      ]
     },
     "execution_count": 51,
     "metadata": {},
     "output_type": "execute_result"
    }
   ],
   "source": [
    "stream = Stream.from_file(paths['EXAMPLE_ACTIVITY'])\n",
    "decoder = Decoder(stream)\n",
    "messages = decoder.read()[0]\n",
    "messages.keys()"
   ]
  },
  {
   "cell_type": "code",
   "execution_count": 47,
   "metadata": {},
   "outputs": [
    {
     "data": {
      "text/plain": [
       "3278"
      ]
     },
     "execution_count": 47,
     "metadata": {},
     "output_type": "execute_result"
    }
   ],
   "source": [
    "len(messages['record_mesgs'])"
   ]
  }
 ],
 "metadata": {
  "kernelspec": {
   "display_name": ".venv",
   "language": "python",
   "name": "python3"
  },
  "language_info": {
   "codemirror_mode": {
    "name": "ipython",
    "version": 3
   },
   "file_extension": ".py",
   "mimetype": "text/x-python",
   "name": "python",
   "nbconvert_exporter": "python",
   "pygments_lexer": "ipython3",
   "version": "3.10.6"
  }
 },
 "nbformat": 4,
 "nbformat_minor": 2
}
