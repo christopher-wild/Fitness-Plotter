{
 "cells": [
  {
   "cell_type": "markdown",
   "metadata": {},
   "source": [
    "# Plot all activities"
   ]
  },
  {
   "cell_type": "code",
   "execution_count": 1,
   "metadata": {},
   "outputs": [],
   "source": [
    "from fitness_plotter.garmin.fit_file import FitFile\n",
    "from glob import glob\n",
    "import json\n",
    "import folium\n",
    "with open('paths.json') as f:\n",
    "    paths = json.load(f)"
   ]
  },
  {
   "cell_type": "markdown",
   "metadata": {},
   "source": [
    "Make empty base map"
   ]
  },
  {
   "cell_type": "code",
   "execution_count": 2,
   "metadata": {},
   "outputs": [],
   "source": [
    "m = folium.Map()"
   ]
  },
  {
   "cell_type": "markdown",
   "metadata": {},
   "source": [
    "Find all activitiy files and return each polyline"
   ]
  },
  {
   "cell_type": "code",
   "execution_count": 9,
   "metadata": {},
   "outputs": [],
   "source": [
    "for fit_file in glob(paths['ACTIVITIES_DICTORY'] + '/*.fit'):\n",
    "    fit = FitFile(fit_file)\n",
    "    polyline = fit.polyline\n",
    "    sport = fit.sport\n",
    "    if sport == 'running':\n",
    "        color = 'blue'\n",
    "    elif sport == 'cycling':\n",
    "        color = 'yellow'\n",
    "    if polyline:\n",
    "        folium.PolyLine(polyline, opacity=0.45, color=color).add_to(m)\n"
   ]
  },
  {
   "cell_type": "code",
   "execution_count": null,
   "metadata": {},
   "outputs": [],
   "source": [
    "m"
   ]
  }
 ],
 "metadata": {
  "kernelspec": {
   "display_name": ".venv",
   "language": "python",
   "name": "python3"
  },
  "language_info": {
   "codemirror_mode": {
    "name": "ipython",
    "version": 3
   },
   "file_extension": ".py",
   "mimetype": "text/x-python",
   "name": "python",
   "nbconvert_exporter": "python",
   "pygments_lexer": "ipython3",
   "version": "3.10.6"
  }
 },
 "nbformat": 4,
 "nbformat_minor": 2
}
